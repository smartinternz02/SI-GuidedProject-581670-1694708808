{
  "nbformat": 4,
  "nbformat_minor": 0,
  "metadata": {
    "colab": {
      "provenance": []
    },
    "kernelspec": {
      "name": "python3",
      "display_name": "Python 3"
    },
    "language_info": {
      "name": "python"
    }
  },
  "cells": [
    {
      "cell_type": "markdown",
      "source": [
        "TASK - 1 :- Create a pandas dataframe (DataFrame name as 'df') with numpy random values (4 features and 4 observation)"
      ],
      "metadata": {
        "id": "eohc4KgzzrZK"
      }
    },
    {
      "cell_type": "code",
      "execution_count": 1,
      "metadata": {
        "colab": {
          "base_uri": "https://localhost:8080/"
        },
        "id": "PpS2b7ISzlFK",
        "outputId": "767965af-4cf7-4c2b-bd83-f4c25aeb2469"
      },
      "outputs": [
        {
          "output_type": "stream",
          "name": "stdout",
          "text": [
            "   Feature1  Feature2  Feature3  Feature4\n",
            "0  0.374540  0.950714  0.731994  0.598658\n",
            "1       NaN       NaN       NaN  0.866176\n",
            "2  0.601115  0.708073       NaN  0.969910\n",
            "3  0.832443       NaN       NaN       NaN\n"
          ]
        }
      ],
      "source": [
        "import pandas as pd\n",
        "import numpy as np\n",
        "np.random.seed(42)\n",
        "data=np.random.rand(4, 4) #generating numpy random values\n",
        "data[data < 0.3] = np.nan #introducing null values in the generated data\n",
        "df=pd.DataFrame(data, columns=['Feature1', 'Feature2', 'Feature3', 'Feature4']) #creating a dataframe using the generated data containing null values\n",
        "print(df)"
      ]
    },
    {
      "cell_type": "markdown",
      "source": [
        "TASK - 2 :- Rename the task - 1 'df' dataframe column names to 'Random value 1', 'Random value 2', 'Random value 3' & 'Random value 4'\n",
        "\n"
      ],
      "metadata": {
        "id": "ICsdQ8SpzzZe"
      }
    },
    {
      "cell_type": "markdown",
      "source": [],
      "metadata": {
        "id": "0aAHliiAzzQD"
      }
    },
    {
      "cell_type": "code",
      "source": [
        "new_col_names={'Feature1': 'Random value 1','Feature2': 'Random value 2','Feature3': 'Random value 3','Feature4': 'Random value 4'}\n",
        "df.rename(columns=new_col_names,inplace=True)  #renaming the columns of the dataframe df, previously created, using the rename() function\n",
        "print(df)\n",
        ""
      ],
      "metadata": {
        "colab": {
          "base_uri": "https://localhost:8080/"
        },
        "id": "EdgXsKLDzvQG",
        "outputId": "01af9245-4c0a-48de-b84c-4deb3eea36e0"
      },
      "execution_count": 2,
      "outputs": [
        {
          "output_type": "stream",
          "name": "stdout",
          "text": [
            "   Random value 1  Random value 2  Random value 3  Random value 4\n",
            "0        0.374540        0.950714        0.731994        0.598658\n",
            "1             NaN             NaN             NaN        0.866176\n",
            "2        0.601115        0.708073             NaN        0.969910\n",
            "3        0.832443             NaN             NaN             NaN\n"
          ]
        }
      ]
    },
    {
      "cell_type": "markdown",
      "source": [
        "TASK - 3 :- Find the descriptive statistics of the 'df' dataframe.\n"
      ],
      "metadata": {
        "id": "A8HZtVwrz4gm"
      }
    },
    {
      "cell_type": "code",
      "source": [
        "desc_stat=df.describe()\n",
        "print(desc_stat)"
      ],
      "metadata": {
        "colab": {
          "base_uri": "https://localhost:8080/"
        },
        "id": "5W_SeoVKz191",
        "outputId": "d2c436bf-7978-4b4b-e1a7-d18ae3732e82"
      },
      "execution_count": 3,
      "outputs": [
        {
          "output_type": "stream",
          "name": "stdout",
          "text": [
            "       Random value 1  Random value 2  Random value 3  Random value 4\n",
            "count        3.000000        2.000000        1.000000        3.000000\n",
            "mean         0.602699        0.829393        0.731994        0.811581\n",
            "std          0.228955        0.171574             NaN        0.191552\n",
            "min          0.374540        0.708073        0.731994        0.598658\n",
            "25%          0.487828        0.768733        0.731994        0.732417\n",
            "50%          0.601115        0.829393        0.731994        0.866176\n",
            "75%          0.716779        0.890054        0.731994        0.918043\n",
            "max          0.832443        0.950714        0.731994        0.969910\n"
          ]
        }
      ]
    },
    {
      "cell_type": "markdown",
      "source": [
        "TASK - 4 :- Check for the null values in 'df' and find the data type of the columns"
      ],
      "metadata": {
        "id": "fafWqmc4z-sK"
      }
    },
    {
      "cell_type": "code",
      "source": [
        "\n",
        "null_values=df.isnull().any() #checking for null values\n",
        "print(null_values)\n",
        "data_types=df.dtypes  #finding data type of the columns\n",
        "print(data_types)\n",
        ""
      ],
      "metadata": {
        "colab": {
          "base_uri": "https://localhost:8080/"
        },
        "id": "OCRxTlCtz70o",
        "outputId": "6a2c9878-a8b0-4020-ca93-3b7f00cf31a4"
      },
      "execution_count": 4,
      "outputs": [
        {
          "output_type": "stream",
          "name": "stdout",
          "text": [
            "Random value 1    True\n",
            "Random value 2    True\n",
            "Random value 3    True\n",
            "Random value 4    True\n",
            "dtype: bool\n",
            "Random value 1    float64\n",
            "Random value 2    float64\n",
            "Random value 3    float64\n",
            "Random value 4    float64\n",
            "dtype: object\n"
          ]
        }
      ]
    },
    {
      "cell_type": "markdown",
      "source": [
        "TASK - 5 :- Display the 'Random value 2' & 'Random value 3' columns with location method and index location method"
      ],
      "metadata": {
        "id": "BZkNhd0N0DOn"
      }
    },
    {
      "cell_type": "code",
      "source": [
        "#using location method (.loc[])\n",
        "location=df.loc[:,['Random value 2','Random value 3']]  #giving the names of the columns to be displayed\n",
        "print(location)\n",
        "#using index location method (.iloc[])\n",
        "index_location= df.iloc[:,[1, 2]]  # giving the positions of the columns to be displayed\n",
        "print(index_location)"
      ],
      "metadata": {
        "colab": {
          "base_uri": "https://localhost:8080/"
        },
        "id": "X52Fp9o00A5K",
        "outputId": "241c2df7-565f-4358-823b-2e113da22a19"
      },
      "execution_count": 5,
      "outputs": [
        {
          "output_type": "stream",
          "name": "stdout",
          "text": [
            "   Random value 2  Random value 3\n",
            "0        0.950714        0.731994\n",
            "1             NaN             NaN\n",
            "2        0.708073             NaN\n",
            "3             NaN             NaN\n",
            "   Random value 2  Random value 3\n",
            "0        0.950714        0.731994\n",
            "1             NaN             NaN\n",
            "2        0.708073             NaN\n",
            "3             NaN             NaN\n"
          ]
        }
      ]
    },
    {
      "cell_type": "code",
      "source": [],
      "metadata": {
        "id": "7XyykBee0FJU"
      },
      "execution_count": null,
      "outputs": []
    }
  ]
}